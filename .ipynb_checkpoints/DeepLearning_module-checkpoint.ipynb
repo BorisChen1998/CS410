{
 "cells": [
  {
   "cell_type": "code",
   "execution_count": null,
   "metadata": {
    "ExecuteTime": {
     "start_time": "2019-01-05T15:19:20.329Z"
    },
    "collapsed": true
   },
   "outputs": [],
   "source": [
    "import torch\n",
    "import numpy as np\n",
    "import pandas as pd\n",
    "from pandas import DataFrame\n",
    "from torch.autograd import Variable\n",
    "import random\n",
    "import math\n",
    "import time\n",
    "from prettytable import PrettyTable\n",
    "import matplotlib.pyplot as plt\n",
    "def rand_n_int(l, r, n):\n",
    "    s=[]\n",
    "    while(len(s)<n):\n",
    "        x=random.randint(l,r)\n",
    "        if x not in s:\n",
    "            s.append(x)\n",
    "    return s\n",
    "random.seed(time.time())\n",
    "\n",
    "data_arr = np.load(\"data_reduce.npy\")\n",
    "labels = np.load(\"labels_01.npy\")\n",
    "labels = labels.reshape(-1,1)\n",
    "\n",
    "test_index = np.array(rand_n_int(0, data_arr.shape[0]-1, math.floor(data_arr.shape[0]*0.3)))\n",
    "train_index=[]\n",
    "for i in range(data_arr.shape[0]):\n",
    "    if i not in test_index:\n",
    "        train_index.append(i)\n",
    "train_index = np.array(train_index)\n",
    "data_train = data_arr[train_index,:]\n",
    "label_train = labels[train_index,:]\n",
    "data_test = data_arr[test_index,:]\n",
    "label_test = labels[test_index,:]\n",
    "\n",
    "x, y = Variable(torch.FloatTensor(data_train)), Variable(torch.FloatTensor(label_train))\n",
    "x_test, y_test = Variable(torch.FloatTensor(data_test)), Variable(torch.FloatTensor(label_test))"
   ]
  },
  {
   "cell_type": "code",
   "execution_count": null,
   "metadata": {
    "ExecuteTime": {
     "start_time": "2019-01-05T15:19:20.333Z"
    },
    "collapsed": true
   },
   "outputs": [],
   "source": [
    "torch.manual_seed(time.time())\n",
    "seq_net = torch.nn.Sequential(\n",
    "    torch.nn.Linear(data_arr.shape[1], math.ceil(math.sqrt(data_arr.shape[1]))),\n",
    "    torch.nn.Sigmoid(),\n",
    "    torch.nn.Linear(math.ceil(math.sqrt(data_arr.shape[1])), math.ceil(math.sqrt(data_arr.shape[1]))),\n",
    "    torch.nn.Sigmoid(),\n",
    "    torch.nn.Linear(math.ceil(math.sqrt(data_arr.shape[1])), 1),\n",
    "    torch.nn.Sigmoid()\n",
    ")"
   ]
  },
  {
   "cell_type": "code",
   "execution_count": null,
   "metadata": {
    "ExecuteTime": {
     "start_time": "2019-01-05T15:19:20.336Z"
    },
    "scrolled": true
   },
   "outputs": [],
   "source": [
    "loss_func = torch.nn.MSELoss()\n",
    "optimizer = torch.optim.Adam(seq_net.parameters(), lr=0.001, weight_decay=1e-5)\n",
    "loss_vector = []\n",
    "for t in range(2000):\n",
    "    prediction = seq_net(x)                                      # 用网络预测一下\n",
    "    loss = loss_func(prediction, y)                          # 计算损失\n",
    "    optimizer.zero_grad()                                    # 清除上一步的梯度\n",
    "    loss.backward()                                          # 反向传播, 计算梯度\n",
    "    optimizer.step()                                         # 优化一步\n",
    "    if t % 100 == 0:\n",
    "        print('No.%d iteration. Loss=%.4f' % (t, loss.item()))\n",
    "        loss_vector.append(loss.item())\n",
    "plt.plot(range(20)*100, loss_vector)\n",
    "plt.xlabel(\"Iterations\")\n",
    "plt.ylabel(\"Loss\")\n",
    "plt.show()"
   ]
  },
  {
   "cell_type": "code",
   "execution_count": null,
   "metadata": {
    "ExecuteTime": {
     "start_time": "2019-01-05T15:19:20.337Z"
    }
   },
   "outputs": [],
   "source": [
    "out = seq_net(x_test).detach().numpy()\n",
    "out_arr = np.array([])\n",
    "for i in range(out.shape[0]):\n",
    "    if out[i][0] >= 0.5:\n",
    "        out_arr = np.append(out_arr, [1])\n",
    "    else:\n",
    "        out_arr = np.append(out_arr, [0])\n",
    "        \n",
    "label_test = label_test.reshape(1,-1)[0]\n",
    "correct, correct1, correct0, false1, false0 = 0,0,0,0,0\n",
    "for i in range(out_arr.shape[0]):\n",
    "    if out_arr[i] == label_test[i]:\n",
    "        correct+=1\n",
    "        if out_arr[i] == 1:\n",
    "            correct1+=1\n",
    "        else:\n",
    "            correct0+=1\n",
    "    else:\n",
    "        if out_arr[i] == 1:\n",
    "            false1+=1\n",
    "        else:\n",
    "            false0+=1\n",
    "print(\"Accuracy: %.4f\" % (correct/out_arr.shape[0]))"
   ]
  },
  {
   "cell_type": "code",
   "execution_count": null,
   "metadata": {
    "ExecuteTime": {
     "start_time": "2019-01-05T15:19:20.339Z"
    },
    "scrolled": false
   },
   "outputs": [],
   "source": [
    "tab = PrettyTable()\n",
    "tab.field_names = [\"\", \"Cancer\",\"Normal\",\"Precision\"]\n",
    "\n",
    "tab.add_row(['Predict Cancer',correct1,false1,\"%.4f\"%(correct1/(correct1+false1))])\n",
    "tab.add_row(['Predict Normal',false0,correct0,\"%.4f\"%(correct0/(correct0+false0))])\n",
    "tab.add_row(['Recall',\"%.4f\"%(correct1/(correct1+false0)), \"%.4f\"%(correct0/(false1+correct0)),\"\"])\n",
    "print(tab)"
   ]
  }
 ],
 "metadata": {
  "kernelspec": {
   "display_name": "Python 3",
   "language": "python",
   "name": "python3"
  },
  "language_info": {
   "codemirror_mode": {
    "name": "ipython",
    "version": 3
   },
   "file_extension": ".py",
   "mimetype": "text/x-python",
   "name": "python",
   "nbconvert_exporter": "python",
   "pygments_lexer": "ipython3",
   "version": "3.6.1"
  },
  "toc": {
   "base_numbering": 1,
   "nav_menu": {},
   "number_sections": true,
   "sideBar": true,
   "skip_h1_title": false,
   "title_cell": "Table of Contents",
   "title_sidebar": "Contents",
   "toc_cell": false,
   "toc_position": {},
   "toc_section_display": true,
   "toc_window_display": false
  },
  "varInspector": {
   "cols": {
    "lenName": 16,
    "lenType": 16,
    "lenVar": 40
   },
   "kernels_config": {
    "python": {
     "delete_cmd_postfix": "",
     "delete_cmd_prefix": "del ",
     "library": "var_list.py",
     "varRefreshCmd": "print(var_dic_list())"
    },
    "r": {
     "delete_cmd_postfix": ") ",
     "delete_cmd_prefix": "rm(",
     "library": "var_list.r",
     "varRefreshCmd": "cat(var_dic_list()) "
    }
   },
   "types_to_exclude": [
    "module",
    "function",
    "builtin_function_or_method",
    "instance",
    "_Feature"
   ],
   "window_display": false
  }
 },
 "nbformat": 4,
 "nbformat_minor": 2
}
