{
 "cells": [
  {
   "cell_type": "code",
   "execution_count": 1,
   "metadata": {
    "ExecuteTime": {
     "end_time": "2019-01-06T10:20:17.958452Z",
     "start_time": "2019-01-06T10:19:51.010635Z"
    }
   },
   "outputs": [
    {
     "name": "stdout",
     "output_type": "stream",
     "text": [
      "Score: 0.9356\n",
      "+----------------+--------+--------+-----------+\n",
      "|                | Cancer | Normal | Precision |\n",
      "+----------------+--------+--------+-----------+\n",
      "| Predict Cancer |  1118  |   69   |   0.9419  |\n",
      "| Predict Normal |   45   |  537   |   0.9227  |\n",
      "|     Recall     | 0.9613 | 0.8861 |           |\n",
      "+----------------+--------+--------+-----------+\n"
     ]
    },
    {
     "name": "stderr",
     "output_type": "stream",
     "text": [
      "D:\\Python36\\lib\\site-packages\\sklearn\\linear_model\\sag.py:326: ConvergenceWarning: The max_iter was reached which means the coef_ did not converge\n",
      "  \"the coef_ did not converge\", ConvergenceWarning)\n"
     ]
    }
   ],
   "source": [
    "import numpy as np\n",
    "from sklearn.model_selection import train_test_split\n",
    "from sklearn.linear_model import LogisticRegression\n",
    "from sklearn.preprocessing import StandardScaler\n",
    "from prettytable import PrettyTable\n",
    "\n",
    "\n",
    "def load_data():\n",
    "    data_d = np.load('data_reduce.npy')\n",
    "    data_l = np.load('labels_01.npy')\n",
    "    X_train, X_test, y_train, y_test = train_test_split(\n",
    "        data_d, data_l, test_size=0.30, random_state=0)\n",
    "    ss = StandardScaler()\n",
    "    X_train = ss.fit_transform(X_train)\n",
    "    X_test = ss.transform(X_test)\n",
    "    return X_train, X_test, y_train, y_test\n",
    "\n",
    "\n",
    "def test_LR_multiomaial(X_train, X_test, y_train, y_test):\n",
    "    cls = LogisticRegression(\n",
    "        penalty='l1', multi_class='multinomial', solver='saga')\n",
    "    cls.fit(X_train, y_train)\n",
    "    out_arr = cls.predict(X_test)\n",
    "\n",
    "    print('Score: %.4f' % cls.score(X_test, y_test))\n",
    "\n",
    "    correct, correct1, correct0, false1, false0 = 0, 0, 0, 0, 0\n",
    "    for i in range(out_arr.shape[0]):\n",
    "        if out_arr[i] == y_test[i]:\n",
    "            correct += 1\n",
    "            if out_arr[i] == 1:\n",
    "                correct1 += 1\n",
    "            else:\n",
    "                correct0 += 1\n",
    "        else:\n",
    "            if out_arr[i] == 1:\n",
    "                false1 += 1\n",
    "            else:\n",
    "                false0 += 1\n",
    "\n",
    "    tab = PrettyTable()\n",
    "    tab.field_names = [\"\", \"Cancer\", \"Normal\", \"Precision\"]\n",
    "\n",
    "    tab.add_row(['Predict Cancer', correct1, false1, \"%.4f\" %\n",
    "                 (correct1/(correct1+false1))])\n",
    "    tab.add_row(['Predict Normal', false0, correct0, \"%.4f\" %\n",
    "                 (correct0/(correct0+false0))])\n",
    "    tab.add_row(['Recall', \"%.4f\" % (correct1/(correct1+false0)),\n",
    "                 \"%.4f\" % (correct0/(false1+correct0)), \"\"])\n",
    "    print(tab)\n",
    "\n",
    "\n",
    "if __name__ == '__main__':\n",
    "    X_train, X_test, y_train, y_test = load_data()\n",
    "    test_LR_multiomaial(X_train, X_test, y_train, y_test)"
   ]
  }
 ],
 "metadata": {
  "kernelspec": {
   "display_name": "Python 3",
   "language": "python",
   "name": "python3"
  },
  "language_info": {
   "codemirror_mode": {
    "name": "ipython",
    "version": 3
   },
   "file_extension": ".py",
   "mimetype": "text/x-python",
   "name": "python",
   "nbconvert_exporter": "python",
   "pygments_lexer": "ipython3",
   "version": "3.6.1"
  },
  "toc": {
   "base_numbering": 1,
   "nav_menu": {},
   "number_sections": true,
   "sideBar": true,
   "skip_h1_title": false,
   "title_cell": "Table of Contents",
   "title_sidebar": "Contents",
   "toc_cell": false,
   "toc_position": {},
   "toc_section_display": true,
   "toc_window_display": false
  },
  "varInspector": {
   "cols": {
    "lenName": 16,
    "lenType": 16,
    "lenVar": 40
   },
   "kernels_config": {
    "python": {
     "delete_cmd_postfix": "",
     "delete_cmd_prefix": "del ",
     "library": "var_list.py",
     "varRefreshCmd": "print(var_dic_list())"
    },
    "r": {
     "delete_cmd_postfix": ") ",
     "delete_cmd_prefix": "rm(",
     "library": "var_list.r",
     "varRefreshCmd": "cat(var_dic_list()) "
    }
   },
   "types_to_exclude": [
    "module",
    "function",
    "builtin_function_or_method",
    "instance",
    "_Feature"
   ],
   "window_display": false
  }
 },
 "nbformat": 4,
 "nbformat_minor": 2
}
