{
 "cells": [
  {
   "cell_type": "code",
   "execution_count": 1,
   "metadata": {
    "collapsed": true
   },
   "outputs": [],
   "source": [
    "import numpy as np\n",
    "import pandas as pd\n",
    "from pandas import DataFrame\n",
    "from sklearn.decomposition import PCA\n",
    "\n",
    "data = pd.read_table(\"microarray.original.txt\", sep='\\t')\n",
    "\n",
    "data_arr = data.drop(['ProbeSet ID'], axis = 1).values\n",
    "\n",
    "pca = PCA(n_components = 1000)\n",
    "data_reduce = pca.fit_transform(data_arr.T)\n",
    "np.save(\"data_reduce.npy\", data_reduce)"
   ]
  }
 ],
 "metadata": {
  "kernelspec": {
   "display_name": "Python 3",
   "language": "python",
   "name": "python3"
  },
  "language_info": {
   "codemirror_mode": {
    "name": "ipython",
    "version": 3
   },
   "file_extension": ".py",
   "mimetype": "text/x-python",
   "name": "python",
   "nbconvert_exporter": "python",
   "pygments_lexer": "ipython3",
   "version": "3.6.1"
  }
 },
 "nbformat": 4,
 "nbformat_minor": 2
}
