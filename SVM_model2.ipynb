{
 "cells": [
  {
   "cell_type": "code",
   "execution_count": 10,
   "metadata": {
    "ExecuteTime": {
     "end_time": "2019-01-07T08:46:41.402841Z",
     "start_time": "2019-01-07T08:46:41.215010Z"
    },
    "collapsed": true
   },
   "outputs": [],
   "source": [
    "import numpy as np\n",
    "import random\n",
    "import pandas as pd\n",
    "from pandas import DataFrame\n",
    "from sklearn import svm\n",
    "\n",
    "\n",
    "def rand_n_int(l, r, n):\n",
    "    s = []\n",
    "    while(len(s) < n):\n",
    "        x = random.randint(l, r)\n",
    "        if x not in s:\n",
    "            s.append(x)\n",
    "    return s\n",
    "\n",
    "#label_table = pd.read_table(\"E-TABM-185.sdrf.txt\", sep='\\t')\n",
    "\n",
    "#labels = DataFrame(label_table, columns=['Disease Label'])\n",
    "\n",
    "\n",
    "#labels_normal = labels[labels['Is Disease'] == 0]\n",
    "#labels_cancer = labels.drop(labels_normal.index)\n",
    "#label_cate = labels.values.reshape(1,-1)\n",
    "#label_cate = label_cate[0]\n",
    "label_cate = np.load(\"labels_full.npy\")\n",
    "label_cate = label_cate.reshape(-1, 1)\n",
    "\n",
    "#data = pd.read_table(\"microarray.original.txt\", sep='\\t')\n",
    "#data = data.drop(['ProbeSet ID'], axis = 1).values\n",
    "#data = data.T\n",
    "data = np.load(\"data_reduce.npy\")\n",
    "\n",
    "test_index = np.array(rand_n_int(0, data.shape[0]-1, 2000))\n",
    "train_index = []\n",
    "for i in range(data.shape[0]):\n",
    "    if i not in test_index:\n",
    "        train_index.append(i)\n",
    "train_index = np.array(train_index)\n",
    "\n",
    "data_train = data[train_index, :]\n",
    "label_train = label_cate[train_index]\n",
    "data_test = data[test_index, :]\n",
    "label_test = label_cate[test_index]"
   ]
  },
  {
   "cell_type": "code",
   "execution_count": 11,
   "metadata": {
    "ExecuteTime": {
     "end_time": "2019-01-07T08:48:54.790745Z",
     "start_time": "2019-01-07T08:46:41.402841Z"
    }
   },
   "outputs": [
    {
     "name": "stderr",
     "output_type": "stream",
     "text": [
      "D:\\Python36\\lib\\site-packages\\sklearn\\utils\\validation.py:578: DataConversionWarning: A column-vector y was passed when a 1d array was expected. Please change the shape of y to (n_samples, ), for example using ravel().\n",
      "  y = column_or_1d(y, warn=True)\n"
     ]
    },
    {
     "data": {
      "text/plain": [
       "SVC(C=1.0, cache_size=200, class_weight=None, coef0=0.0,\n",
       "  decision_function_shape='ovr', degree=3, gamma='auto', kernel='rbf',\n",
       "  max_iter=-1, probability=False, random_state=None, shrinking=True,\n",
       "  tol=0.001, verbose=False)"
      ]
     },
     "execution_count": 11,
     "metadata": {},
     "output_type": "execute_result"
    }
   ],
   "source": [
    "clf = svm.SVC()\n",
    "clf.fit(data_train, label_train)"
   ]
  },
  {
   "cell_type": "code",
   "execution_count": 13,
   "metadata": {
    "ExecuteTime": {
     "end_time": "2019-01-07T08:49:59.600054Z",
     "start_time": "2019-01-07T08:49:48.585485Z"
    }
   },
   "outputs": [
    {
     "name": "stdout",
     "output_type": "stream",
     "text": [
      "Accuracy: 0.4110\n"
     ]
    }
   ],
   "source": [
    "correct = 0\n",
    "for i in range(test_index.shape[0]):\n",
    "    res = clf.predict(data_test[i,:].reshape(1, -1))\n",
    "    if res == label_test[i]:\n",
    "        correct+=1\n",
    "print(\"Accuracy: %.4f\" % (correct/test_index.shape[0]))"
   ]
  },
  {
   "cell_type": "code",
   "execution_count": null,
   "metadata": {
    "collapsed": true
   },
   "outputs": [],
   "source": []
  }
 ],
 "metadata": {
  "kernelspec": {
   "display_name": "Python 3",
   "language": "python",
   "name": "python3"
  },
  "language_info": {
   "codemirror_mode": {
    "name": "ipython",
    "version": 3
   },
   "file_extension": ".py",
   "mimetype": "text/x-python",
   "name": "python",
   "nbconvert_exporter": "python",
   "pygments_lexer": "ipython3",
   "version": "3.6.1"
  },
  "toc": {
   "base_numbering": 1,
   "nav_menu": {},
   "number_sections": true,
   "sideBar": true,
   "skip_h1_title": false,
   "title_cell": "Table of Contents",
   "title_sidebar": "Contents",
   "toc_cell": false,
   "toc_position": {},
   "toc_section_display": true,
   "toc_window_display": false
  },
  "varInspector": {
   "cols": {
    "lenName": 16,
    "lenType": 16,
    "lenVar": 40
   },
   "kernels_config": {
    "python": {
     "delete_cmd_postfix": "",
     "delete_cmd_prefix": "del ",
     "library": "var_list.py",
     "varRefreshCmd": "print(var_dic_list())"
    },
    "r": {
     "delete_cmd_postfix": ") ",
     "delete_cmd_prefix": "rm(",
     "library": "var_list.r",
     "varRefreshCmd": "cat(var_dic_list()) "
    }
   },
   "types_to_exclude": [
    "module",
    "function",
    "builtin_function_or_method",
    "instance",
    "_Feature"
   ],
   "window_display": false
  }
 },
 "nbformat": 4,
 "nbformat_minor": 2
}
